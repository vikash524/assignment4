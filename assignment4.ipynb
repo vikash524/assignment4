{
 "cells": [
  {
   "cell_type": "code",
   "execution_count": null,
   "id": "585bf1c5-5a5e-4660-9714-b1589934ce46",
   "metadata": {},
   "outputs": [],
   "source": [
    "#Q1. Explain Class and Object with respect to Object-Oriented Programming. Give a suitable example.\n",
    "\n",
    "\n",
    "# Class is a blueprint for creating objects. It defines the attributes and methods common to all objects of that class.\n",
    "# Object is an instance of a class. It represents a unique entity with its own set of attributes and behaviors.\n",
    "\n",
    "# Example:\n",
    "class Car:\n",
    "    def __init__(self, make, model):\n",
    "        self.make = make\n",
    "        self.model = model\n",
    "\n",
    "    def display_info(self):\n",
    "        print(f\"Car Make: {self.make}, Model: {self.model}\")\n",
    "\n",
    "# Creating objects of the Car class\n",
    "car1 = Car(\"Toyota\", \"Camry\")\n",
    "car2 = Car(\"Honda\", \"Accord\")\n",
    "\n",
    "# Accessing object attributes and methods\n",
    "car1.display_info()\n",
    "car2.display_info()"
   ]
  },
  {
   "cell_type": "code",
   "execution_count": null,
   "id": "7239c1ac-3669-4982-8b12-f181f7e15293",
   "metadata": {},
   "outputs": [],
   "source": [
    "#Q2. Name the four pillars of OOPs.\n",
    "\n",
    "\n",
    "###The four pillars of OOPs are:\n",
    "1. Encapsulation\n",
    "2. Abstraction\n",
    "3. Inheritance\n",
    "4. Polymorphism"
   ]
  },
  {
   "cell_type": "code",
   "execution_count": null,
   "id": "1f8eb332-98e9-45d5-9155-3d662955d261",
   "metadata": {},
   "outputs": [],
   "source": [
    "#Q3. Explain why the init() function is used. Give a suitable example.\n",
    "\n",
    "\n",
    "# The __init__() function is used to initialize the attributes of an object when it is created.\n",
    "\n",
    "# Example:\n",
    "class Person:\n",
    "    def __init__(self, name, age):\n",
    "        self.name = name\n",
    "        self.age = age\n",
    "\n",
    "    def display_info(self):\n",
    "        print(f\"Name: {self.name}, Age: {self.age}\")\n",
    "\n",
    "# Creating objects of the Person class\n",
    "person1 = Person(\"John\", 30)\n",
    "person2 = Person(\"Alice\", 25)\n",
    "\n",
    "# Accessing object attributes and methods\n",
    "person1.display_info()\n",
    "person2.display_info()"
   ]
  },
  {
   "cell_type": "code",
   "execution_count": null,
   "id": "d3a38441-f50f-49c6-91dc-cf381eb7a81a",
   "metadata": {},
   "outputs": [
    {
     "ename": "SyntaxError",
     "evalue": "invalid syntax (3406952162.py, line 27)",
     "output_type": "error",
     "traceback": [
      "\u001b[0;36m  Cell \u001b[0;32mIn[1], line 27\u001b[0;36m\u001b[0m\n\u001b[0;31m    1. Encapsulation\u001b[0m\n\u001b[0m       ^\u001b[0m\n\u001b[0;31mSyntaxError\u001b[0m\u001b[0;31m:\u001b[0m invalid syntax\n"
     ]
    }
   ],
   "source": [
    "#Q4. Why self is used in OOPs?\n",
    "\n",
    "\n",
    "In OOPs, 'self' is a reference to the current instance of the class. It is used to access variables and methods of the class within the class definition.\n",
    "#Q5. What is inheritance? Give an example for each type of inheritance.\n",
    "\n",
    "\n",
    "Inheritance is a mechanism in OOPs where a new class inherits properties and behaviors (attributes and methods) from an existing class. \n",
    "There are different types of inheritance:\n",
    "1. Single Inheritance: When a class inherits from only one parent class.\n",
    "2. Multiple Inheritance: When a class inherits from more than one parent class.\n",
    "3. Multilevel Inheritance: When a class inherits from a parent class, and another class inherits from this derived class.\n",
    "4. Hierarchical Inheritance: When multiple classes inherit from a single parent class.\n",
    "5. Hybrid Inheritance: Combination of two or more types of inheritance.\n",
    "\n",
    "Example:\n",
    "class Vehicle:\n",
    "    def __init__(self, brand):\n",
    "        self.brand = brand\n",
    "\n",
    "class Car(Vehicle):  # Single Inheritance\n",
    "    def __init__(self, brand, model):\n",
    "        super().__init__(brand)\n",
    "        self.model = model\n",
    "\n",
    "class ElectricCar(Car):  # Multilevel Inheritance\n",
    "    def __init__(self, brand, model, battery_capacity):\n",
    "        super().__init__(brand, model)\n",
    "        self.battery_capacity = battery_capacity\n",
    "\n",
    "class Bus(Vehicle):  # Hierarchical Inheritance\n",
    "    def __init__(self, brand, seating_capacity):\n",
    "        super().__init__(brand)\n",
    "        self.seating_capacity = seating_capacity\n",
    "\n",
    "class HybridCar(Car, ElectricCar):  # Multiple Inheritance\n",
    "    def __init__(self, brand, model, battery_capacity):\n",
    "        Car.__init__(self, brand, model)\n",
    "        ElectricCar.__init__(self, brand, model, battery_capacity)"
   ]
  },
  {
   "cell_type": "code",
   "execution_count": null,
   "id": "875f4c71-fa27-4cc8-a6dd-37f386b9516d",
   "metadata": {},
   "outputs": [],
   "source": []
  }
 ],
 "metadata": {
  "kernelspec": {
   "display_name": "Python 3 (ipykernel)",
   "language": "python",
   "name": "python3"
  },
  "language_info": {
   "codemirror_mode": {
    "name": "ipython",
    "version": 3
   },
   "file_extension": ".py",
   "mimetype": "text/x-python",
   "name": "python",
   "nbconvert_exporter": "python",
   "pygments_lexer": "ipython3",
   "version": "3.10.8"
  }
 },
 "nbformat": 4,
 "nbformat_minor": 5
}
